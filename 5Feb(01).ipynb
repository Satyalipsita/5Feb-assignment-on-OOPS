{
 "cells": [
  {
   "cell_type": "code",
   "execution_count": null,
   "id": "30b3a222-8da4-43d3-80a8-fcbabeaa818f",
   "metadata": {},
   "outputs": [],
   "source": [
    "#Q:1: A class is a template for creating objects in program\n",
    "      A class does not allocate memory space when it is created.\n",
    "      You can declare class only once.\n",
    "      You can create class using “class” keyword.\n",
    "    Object:\n",
    "         The object is an instance of a class.\n",
    "            Object is a physical entity\n",
    "            Object allocates memory space whenever they are created.\n",
    "            Can be given any name as varrible\n",
    "    eg:\n",
    "        \n",
    "       class pwskills :# class declaration\n",
    "    def message(self): # Function inside class\n",
    "        print(\" Welcome to pw skills\")\n",
    "    satya= pwskills() # object creation\n",
    "    satya.message()   #calling method by creating object  \n",
    "            "
   ]
  }
 ],
 "metadata": {
  "kernelspec": {
   "display_name": "Python 3 (ipykernel)",
   "language": "python",
   "name": "python3"
  },
  "language_info": {
   "codemirror_mode": {
    "name": "ipython",
    "version": 3
   },
   "file_extension": ".py",
   "mimetype": "text/x-python",
   "name": "python",
   "nbconvert_exporter": "python",
   "pygments_lexer": "ipython3",
   "version": "3.10.8"
  }
 },
 "nbformat": 4,
 "nbformat_minor": 5
}
