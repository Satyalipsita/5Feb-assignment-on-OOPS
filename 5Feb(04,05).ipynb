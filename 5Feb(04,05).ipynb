{
 "cells": [
  {
   "cell_type": "code",
   "execution_count": null,
   "id": "35fbc516-3934-493e-82f1-344ea8bee310",
   "metadata": {},
   "outputs": [],
   "source": [
    "Q-4:\n",
    "    self is used as pointer which will bind the varribale with the class. \n",
    "    __init__ is used for initializing the varribles.\n",
    "    "
   ]
  },
  {
   "cell_type": "code",
   "execution_count": null,
   "id": "59fddbb3-245e-4972-9cb6-be1418e65a37",
   "metadata": {},
   "outputs": [],
   "source": [
    "Q-5:\n",
    "    Inheritance is a mechanism in which one class acquires the property of another class.\n",
    "    For example, a child inherits the traits of his/her parents. With inheritance,\n",
    "    we can reuse the fields and methods of the existing class. \n",
    "    Hence, inheritance facilitates Reusability and is an important concept of OOPs."
   ]
  }
 ],
 "metadata": {
  "kernelspec": {
   "display_name": "Python 3 (ipykernel)",
   "language": "python",
   "name": "python3"
  },
  "language_info": {
   "codemirror_mode": {
    "name": "ipython",
    "version": 3
   },
   "file_extension": ".py",
   "mimetype": "text/x-python",
   "name": "python",
   "nbconvert_exporter": "python",
   "pygments_lexer": "ipython3",
   "version": "3.10.8"
  }
 },
 "nbformat": 4,
 "nbformat_minor": 5
}
