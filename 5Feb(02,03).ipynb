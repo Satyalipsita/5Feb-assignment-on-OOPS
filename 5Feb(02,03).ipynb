{
 "cells": [
  {
   "cell_type": "code",
   "execution_count": null,
   "id": "4075355a-22f1-40ef-8a56-57c44e8da473",
   "metadata": {},
   "outputs": [],
   "source": [
    "#Q-2\n",
    "The four pillars of OOPs (object-oriented programming) are\n",
    "1:data abstraction, \n",
    "2:encapsulation,\n",
    "3:inheritance, and \n",
    "4:polymorphism"
   ]
  },
  {
   "cell_type": "code",
   "execution_count": null,
   "id": "2128bae5-14f7-4b1c-abe0-3dd28441ee38",
   "metadata": {},
   "outputs": [],
   "source": [
    "#Q-3:\n",
    "#__init__ is what is called as a constructor in other OOP languages\n",
    "\n",
    "class pwskills:\n",
    "    def __init__(self,name,email,age):\n",
    "    self.name=name\n",
    "    self.email=email\n",
    "    self.age=age\n",
    "    \n",
    "   def return_details(self):\n",
    "    return self.name,self.email,self.age\n",
    "  satya=pwskills(\"sunu\",\"satya@hamail.com\",45)\n",
    "  satya.return_details()\n",
    "    "
   ]
  }
 ],
 "metadata": {
  "kernelspec": {
   "display_name": "Python 3 (ipykernel)",
   "language": "python",
   "name": "python3"
  },
  "language_info": {
   "codemirror_mode": {
    "name": "ipython",
    "version": 3
   },
   "file_extension": ".py",
   "mimetype": "text/x-python",
   "name": "python",
   "nbconvert_exporter": "python",
   "pygments_lexer": "ipython3",
   "version": "3.10.8"
  }
 },
 "nbformat": 4,
 "nbformat_minor": 5
}
